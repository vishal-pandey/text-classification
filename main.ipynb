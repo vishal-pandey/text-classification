{
  "nbformat": 4,
  "nbformat_minor": 0,
  "metadata": {
    "colab": {
      "name": "precily.ipynb",
      "version": "0.3.2",
      "provenance": [],
      "collapsed_sections": []
    },
    "kernelspec": {
      "name": "python3",
      "display_name": "Python 3"
    }
  },
  "cells": [
    {
      "cell_type": "markdown",
      "metadata": {
        "id": "bFcunIYbd789",
        "colab_type": "text"
      },
      "source": [
        "#Text Classification for single layer neural network"
      ]
    },
    {
      "cell_type": "code",
      "metadata": {
        "id": "rdyV8S8NZJdk",
        "colab_type": "code",
        "colab": {}
      },
      "source": [
        "# Library imports which are needed\n",
        "\n",
        "import tensorflow as tf\n",
        "import numpy as np\n",
        "import matplotlib.pyplot as plt\n",
        "import pandas as pd\n",
        "import math"
      ],
      "execution_count": 0,
      "outputs": []
    },
    {
      "cell_type": "code",
      "metadata": {
        "id": "JuA_vUuLZWPO",
        "colab_type": "code",
        "colab": {}
      },
      "source": [
        "# Importing data from CSV\n",
        "df = pd.read_csv('bbc-text.csv')"
      ],
      "execution_count": 0,
      "outputs": []
    },
    {
      "cell_type": "code",
      "metadata": {
        "id": "ppNT7OSfZ-gX",
        "colab_type": "code",
        "outputId": "562d57dc-21f3-493f-8d4a-bd5cd28e6355",
        "colab": {
          "base_uri": "https://localhost:8080/",
          "height": 1000
        }
      },
      "source": [
        "# Data Frame generated\n",
        "df"
      ],
      "execution_count": 134,
      "outputs": [
        {
          "output_type": "execute_result",
          "data": {
            "text/html": [
              "<div>\n",
              "<style scoped>\n",
              "    .dataframe tbody tr th:only-of-type {\n",
              "        vertical-align: middle;\n",
              "    }\n",
              "\n",
              "    .dataframe tbody tr th {\n",
              "        vertical-align: top;\n",
              "    }\n",
              "\n",
              "    .dataframe thead th {\n",
              "        text-align: right;\n",
              "    }\n",
              "</style>\n",
              "<table border=\"1\" class=\"dataframe\">\n",
              "  <thead>\n",
              "    <tr style=\"text-align: right;\">\n",
              "      <th></th>\n",
              "      <th>category</th>\n",
              "      <th>text</th>\n",
              "    </tr>\n",
              "  </thead>\n",
              "  <tbody>\n",
              "    <tr>\n",
              "      <th>0</th>\n",
              "      <td>tech</td>\n",
              "      <td>tv future in the hands of viewers with home th...</td>\n",
              "    </tr>\n",
              "    <tr>\n",
              "      <th>1</th>\n",
              "      <td>business</td>\n",
              "      <td>worldcom boss  left books alone  former worldc...</td>\n",
              "    </tr>\n",
              "    <tr>\n",
              "      <th>2</th>\n",
              "      <td>sport</td>\n",
              "      <td>tigers wary of farrell  gamble  leicester say ...</td>\n",
              "    </tr>\n",
              "    <tr>\n",
              "      <th>3</th>\n",
              "      <td>sport</td>\n",
              "      <td>yeading face newcastle in fa cup premiership s...</td>\n",
              "    </tr>\n",
              "    <tr>\n",
              "      <th>4</th>\n",
              "      <td>entertainment</td>\n",
              "      <td>ocean s twelve raids box office ocean s twelve...</td>\n",
              "    </tr>\n",
              "    <tr>\n",
              "      <th>5</th>\n",
              "      <td>politics</td>\n",
              "      <td>howard hits back at mongrel jibe michael howar...</td>\n",
              "    </tr>\n",
              "    <tr>\n",
              "      <th>6</th>\n",
              "      <td>politics</td>\n",
              "      <td>blair prepares to name poll date tony blair is...</td>\n",
              "    </tr>\n",
              "    <tr>\n",
              "      <th>7</th>\n",
              "      <td>sport</td>\n",
              "      <td>henman hopes ended in dubai third seed tim hen...</td>\n",
              "    </tr>\n",
              "    <tr>\n",
              "      <th>8</th>\n",
              "      <td>sport</td>\n",
              "      <td>wilkinson fit to face edinburgh england captai...</td>\n",
              "    </tr>\n",
              "    <tr>\n",
              "      <th>9</th>\n",
              "      <td>entertainment</td>\n",
              "      <td>last star wars  not for children  the sixth an...</td>\n",
              "    </tr>\n",
              "    <tr>\n",
              "      <th>10</th>\n",
              "      <td>entertainment</td>\n",
              "      <td>berlin cheers for anti-nazi film a german movi...</td>\n",
              "    </tr>\n",
              "    <tr>\n",
              "      <th>11</th>\n",
              "      <td>business</td>\n",
              "      <td>virgin blue shares plummet 20% shares in austr...</td>\n",
              "    </tr>\n",
              "    <tr>\n",
              "      <th>12</th>\n",
              "      <td>business</td>\n",
              "      <td>crude oil prices back above $50 cold weather a...</td>\n",
              "    </tr>\n",
              "    <tr>\n",
              "      <th>13</th>\n",
              "      <td>politics</td>\n",
              "      <td>hague  given up  his pm ambition former conser...</td>\n",
              "    </tr>\n",
              "    <tr>\n",
              "      <th>14</th>\n",
              "      <td>sport</td>\n",
              "      <td>moya emotional after davis cup win carlos moya...</td>\n",
              "    </tr>\n",
              "    <tr>\n",
              "      <th>15</th>\n",
              "      <td>business</td>\n",
              "      <td>s korean credit card firm rescued south korea ...</td>\n",
              "    </tr>\n",
              "    <tr>\n",
              "      <th>16</th>\n",
              "      <td>politics</td>\n",
              "      <td>howard backs stem cell research michael howard...</td>\n",
              "    </tr>\n",
              "    <tr>\n",
              "      <th>17</th>\n",
              "      <td>sport</td>\n",
              "      <td>connors boost for british tennis former world ...</td>\n",
              "    </tr>\n",
              "    <tr>\n",
              "      <th>18</th>\n",
              "      <td>business</td>\n",
              "      <td>japanese banking battle at an end japan s sumi...</td>\n",
              "    </tr>\n",
              "    <tr>\n",
              "      <th>19</th>\n",
              "      <td>tech</td>\n",
              "      <td>games maker fights for survival one of britain...</td>\n",
              "    </tr>\n",
              "    <tr>\n",
              "      <th>20</th>\n",
              "      <td>tech</td>\n",
              "      <td>security warning over  fbi virus  the us feder...</td>\n",
              "    </tr>\n",
              "    <tr>\n",
              "      <th>21</th>\n",
              "      <td>tech</td>\n",
              "      <td>halo 2 heralds traffic explosion the growing p...</td>\n",
              "    </tr>\n",
              "    <tr>\n",
              "      <th>22</th>\n",
              "      <td>sport</td>\n",
              "      <td>bates seals takeover ken bates has completed h...</td>\n",
              "    </tr>\n",
              "    <tr>\n",
              "      <th>23</th>\n",
              "      <td>sport</td>\n",
              "      <td>cole faces lengthy injury lay-off aston villa ...</td>\n",
              "    </tr>\n",
              "    <tr>\n",
              "      <th>24</th>\n",
              "      <td>tech</td>\n",
              "      <td>mobile audio enters new dimension as mobile ph...</td>\n",
              "    </tr>\n",
              "    <tr>\n",
              "      <th>25</th>\n",
              "      <td>sport</td>\n",
              "      <td>moya fights back for indian title carlos moya ...</td>\n",
              "    </tr>\n",
              "    <tr>\n",
              "      <th>26</th>\n",
              "      <td>entertainment</td>\n",
              "      <td>career honour for actor dicaprio actor leonard...</td>\n",
              "    </tr>\n",
              "    <tr>\n",
              "      <th>27</th>\n",
              "      <td>tech</td>\n",
              "      <td>mobile gig aims to rock 3g forget about going ...</td>\n",
              "    </tr>\n",
              "    <tr>\n",
              "      <th>28</th>\n",
              "      <td>politics</td>\n",
              "      <td>terror suspects face house arrest uk citizens ...</td>\n",
              "    </tr>\n",
              "    <tr>\n",
              "      <th>29</th>\n",
              "      <td>entertainment</td>\n",
              "      <td>halloween writer debra hill dies screenwriter ...</td>\n",
              "    </tr>\n",
              "    <tr>\n",
              "      <th>...</th>\n",
              "      <td>...</td>\n",
              "      <td>...</td>\n",
              "    </tr>\n",
              "    <tr>\n",
              "      <th>2195</th>\n",
              "      <td>sport</td>\n",
              "      <td>owen delighted with real display michael owen ...</td>\n",
              "    </tr>\n",
              "    <tr>\n",
              "      <th>2196</th>\n",
              "      <td>business</td>\n",
              "      <td>gm issues 2005 profits warning general motors ...</td>\n",
              "    </tr>\n",
              "    <tr>\n",
              "      <th>2197</th>\n",
              "      <td>politics</td>\n",
              "      <td>campbell returns to election team ex-downing s...</td>\n",
              "    </tr>\n",
              "    <tr>\n",
              "      <th>2198</th>\n",
              "      <td>business</td>\n",
              "      <td>asian banks halt dollar s slide the dollar reg...</td>\n",
              "    </tr>\n",
              "    <tr>\n",
              "      <th>2199</th>\n",
              "      <td>business</td>\n",
              "      <td>wall street cool to ebay s profit shares in on...</td>\n",
              "    </tr>\n",
              "    <tr>\n",
              "      <th>2200</th>\n",
              "      <td>tech</td>\n",
              "      <td>uk pioneers digital film network the world s f...</td>\n",
              "    </tr>\n",
              "    <tr>\n",
              "      <th>2201</th>\n",
              "      <td>business</td>\n",
              "      <td>ban on forced retirement under 65 employers wi...</td>\n",
              "    </tr>\n",
              "    <tr>\n",
              "      <th>2202</th>\n",
              "      <td>tech</td>\n",
              "      <td>local net tv takes off in austria an austrian ...</td>\n",
              "    </tr>\n",
              "    <tr>\n",
              "      <th>2203</th>\n",
              "      <td>politics</td>\n",
              "      <td>profile: david miliband david miliband s rapid...</td>\n",
              "    </tr>\n",
              "    <tr>\n",
              "      <th>2204</th>\n",
              "      <td>tech</td>\n",
              "      <td>argonaut founder rebuilds empire jez san  the ...</td>\n",
              "    </tr>\n",
              "    <tr>\n",
              "      <th>2205</th>\n",
              "      <td>entertainment</td>\n",
              "      <td>dance music not dead says fatboy dj norman coo...</td>\n",
              "    </tr>\n",
              "    <tr>\n",
              "      <th>2206</th>\n",
              "      <td>politics</td>\n",
              "      <td>kennedy questions trust of blair lib dem leade...</td>\n",
              "    </tr>\n",
              "    <tr>\n",
              "      <th>2207</th>\n",
              "      <td>tech</td>\n",
              "      <td>california sets fines for spyware the makers o...</td>\n",
              "    </tr>\n",
              "    <tr>\n",
              "      <th>2208</th>\n",
              "      <td>entertainment</td>\n",
              "      <td>snicket tops us box office chart the film adap...</td>\n",
              "    </tr>\n",
              "    <tr>\n",
              "      <th>2209</th>\n",
              "      <td>sport</td>\n",
              "      <td>time to get tough on friendlies  for an intern...</td>\n",
              "    </tr>\n",
              "    <tr>\n",
              "      <th>2210</th>\n",
              "      <td>politics</td>\n",
              "      <td>teens  know little  of politics teenagers ques...</td>\n",
              "    </tr>\n",
              "    <tr>\n",
              "      <th>2211</th>\n",
              "      <td>entertainment</td>\n",
              "      <td>lopez misses uk charity premiere jennifer lope...</td>\n",
              "    </tr>\n",
              "    <tr>\n",
              "      <th>2212</th>\n",
              "      <td>business</td>\n",
              "      <td>christmas shoppers flock to tills shops all ov...</td>\n",
              "    </tr>\n",
              "    <tr>\n",
              "      <th>2213</th>\n",
              "      <td>tech</td>\n",
              "      <td>progress on new internet domains by early 2005...</td>\n",
              "    </tr>\n",
              "    <tr>\n",
              "      <th>2214</th>\n",
              "      <td>business</td>\n",
              "      <td>bush budget seeks deep cutbacks president bush...</td>\n",
              "    </tr>\n",
              "    <tr>\n",
              "      <th>2215</th>\n",
              "      <td>tech</td>\n",
              "      <td>junk e-mails on relentless rise spam traffic i...</td>\n",
              "    </tr>\n",
              "    <tr>\n",
              "      <th>2216</th>\n",
              "      <td>entertainment</td>\n",
              "      <td>top stars join us tsunami tv show brad pitt  r...</td>\n",
              "    </tr>\n",
              "    <tr>\n",
              "      <th>2217</th>\n",
              "      <td>tech</td>\n",
              "      <td>rings of steel combat net attacks gambling is ...</td>\n",
              "    </tr>\n",
              "    <tr>\n",
              "      <th>2218</th>\n",
              "      <td>sport</td>\n",
              "      <td>davies favours gloucester future wales hooker ...</td>\n",
              "    </tr>\n",
              "    <tr>\n",
              "      <th>2219</th>\n",
              "      <td>business</td>\n",
              "      <td>beijingers fume over parking fees choking traf...</td>\n",
              "    </tr>\n",
              "    <tr>\n",
              "      <th>2220</th>\n",
              "      <td>business</td>\n",
              "      <td>cars pull down us retail figures us retail sal...</td>\n",
              "    </tr>\n",
              "    <tr>\n",
              "      <th>2221</th>\n",
              "      <td>politics</td>\n",
              "      <td>kilroy unveils immigration policy ex-chatshow ...</td>\n",
              "    </tr>\n",
              "    <tr>\n",
              "      <th>2222</th>\n",
              "      <td>entertainment</td>\n",
              "      <td>rem announce new glasgow concert us band rem h...</td>\n",
              "    </tr>\n",
              "    <tr>\n",
              "      <th>2223</th>\n",
              "      <td>politics</td>\n",
              "      <td>how political squabbles snowball it s become c...</td>\n",
              "    </tr>\n",
              "    <tr>\n",
              "      <th>2224</th>\n",
              "      <td>sport</td>\n",
              "      <td>souness delight at euro progress boss graeme s...</td>\n",
              "    </tr>\n",
              "  </tbody>\n",
              "</table>\n",
              "<p>2225 rows × 2 columns</p>\n",
              "</div>"
            ],
            "text/plain": [
              "           category                                               text\n",
              "0              tech  tv future in the hands of viewers with home th...\n",
              "1          business  worldcom boss  left books alone  former worldc...\n",
              "2             sport  tigers wary of farrell  gamble  leicester say ...\n",
              "3             sport  yeading face newcastle in fa cup premiership s...\n",
              "4     entertainment  ocean s twelve raids box office ocean s twelve...\n",
              "5          politics  howard hits back at mongrel jibe michael howar...\n",
              "6          politics  blair prepares to name poll date tony blair is...\n",
              "7             sport  henman hopes ended in dubai third seed tim hen...\n",
              "8             sport  wilkinson fit to face edinburgh england captai...\n",
              "9     entertainment  last star wars  not for children  the sixth an...\n",
              "10    entertainment  berlin cheers for anti-nazi film a german movi...\n",
              "11         business  virgin blue shares plummet 20% shares in austr...\n",
              "12         business  crude oil prices back above $50 cold weather a...\n",
              "13         politics  hague  given up  his pm ambition former conser...\n",
              "14            sport  moya emotional after davis cup win carlos moya...\n",
              "15         business  s korean credit card firm rescued south korea ...\n",
              "16         politics  howard backs stem cell research michael howard...\n",
              "17            sport  connors boost for british tennis former world ...\n",
              "18         business  japanese banking battle at an end japan s sumi...\n",
              "19             tech  games maker fights for survival one of britain...\n",
              "20             tech  security warning over  fbi virus  the us feder...\n",
              "21             tech  halo 2 heralds traffic explosion the growing p...\n",
              "22            sport  bates seals takeover ken bates has completed h...\n",
              "23            sport  cole faces lengthy injury lay-off aston villa ...\n",
              "24             tech  mobile audio enters new dimension as mobile ph...\n",
              "25            sport  moya fights back for indian title carlos moya ...\n",
              "26    entertainment  career honour for actor dicaprio actor leonard...\n",
              "27             tech  mobile gig aims to rock 3g forget about going ...\n",
              "28         politics  terror suspects face house arrest uk citizens ...\n",
              "29    entertainment  halloween writer debra hill dies screenwriter ...\n",
              "...             ...                                                ...\n",
              "2195          sport  owen delighted with real display michael owen ...\n",
              "2196       business  gm issues 2005 profits warning general motors ...\n",
              "2197       politics  campbell returns to election team ex-downing s...\n",
              "2198       business  asian banks halt dollar s slide the dollar reg...\n",
              "2199       business  wall street cool to ebay s profit shares in on...\n",
              "2200           tech  uk pioneers digital film network the world s f...\n",
              "2201       business  ban on forced retirement under 65 employers wi...\n",
              "2202           tech  local net tv takes off in austria an austrian ...\n",
              "2203       politics  profile: david miliband david miliband s rapid...\n",
              "2204           tech  argonaut founder rebuilds empire jez san  the ...\n",
              "2205  entertainment  dance music not dead says fatboy dj norman coo...\n",
              "2206       politics  kennedy questions trust of blair lib dem leade...\n",
              "2207           tech  california sets fines for spyware the makers o...\n",
              "2208  entertainment  snicket tops us box office chart the film adap...\n",
              "2209          sport  time to get tough on friendlies  for an intern...\n",
              "2210       politics  teens  know little  of politics teenagers ques...\n",
              "2211  entertainment  lopez misses uk charity premiere jennifer lope...\n",
              "2212       business  christmas shoppers flock to tills shops all ov...\n",
              "2213           tech  progress on new internet domains by early 2005...\n",
              "2214       business  bush budget seeks deep cutbacks president bush...\n",
              "2215           tech  junk e-mails on relentless rise spam traffic i...\n",
              "2216  entertainment  top stars join us tsunami tv show brad pitt  r...\n",
              "2217           tech  rings of steel combat net attacks gambling is ...\n",
              "2218          sport  davies favours gloucester future wales hooker ...\n",
              "2219       business  beijingers fume over parking fees choking traf...\n",
              "2220       business  cars pull down us retail figures us retail sal...\n",
              "2221       politics  kilroy unveils immigration policy ex-chatshow ...\n",
              "2222  entertainment  rem announce new glasgow concert us band rem h...\n",
              "2223       politics  how political squabbles snowball it s become c...\n",
              "2224          sport  souness delight at euro progress boss graeme s...\n",
              "\n",
              "[2225 rows x 2 columns]"
            ]
          },
          "metadata": {
            "tags": []
          },
          "execution_count": 134
        }
      ]
    },
    {
      "cell_type": "code",
      "metadata": {
        "id": "EGjNTSbHaFQB",
        "colab_type": "code",
        "colab": {}
      },
      "source": [
        "# Importing label encoder from sklearn for encoding labels\n",
        "from sklearn.preprocessing import LabelEncoder\n",
        "lab = LabelEncoder()\n",
        "y = lab.fit_transform(df.iloc[:,0].values)"
      ],
      "execution_count": 0,
      "outputs": []
    },
    {
      "cell_type": "code",
      "metadata": {
        "id": "w0ytC-sfb0Ug",
        "colab_type": "code",
        "colab": {}
      },
      "source": [
        "X = df.iloc[:, 1].values"
      ],
      "execution_count": 0,
      "outputs": []
    },
    {
      "cell_type": "code",
      "metadata": {
        "id": "NwC3dN9YdSPc",
        "colab_type": "code",
        "colab": {}
      },
      "source": [
        "# X[0]"
      ],
      "execution_count": 0,
      "outputs": []
    },
    {
      "cell_type": "code",
      "metadata": {
        "id": "aBY3cOe2dSLM",
        "colab_type": "code",
        "outputId": "af1a2efe-9e1a-40cf-d158-f73accc3ecb4",
        "colab": {
          "base_uri": "https://localhost:8080/",
          "height": 68
        }
      },
      "source": [
        "# importing libraries for text preprocessing\n",
        "import re\n",
        "import nltk\n",
        "from nltk.corpus import stopwords\n",
        "\n",
        "nltk.download('stopwords')"
      ],
      "execution_count": 138,
      "outputs": [
        {
          "output_type": "stream",
          "text": [
            "[nltk_data] Downloading package stopwords to /root/nltk_data...\n",
            "[nltk_data]   Package stopwords is already up-to-date!\n"
          ],
          "name": "stdout"
        },
        {
          "output_type": "execute_result",
          "data": {
            "text/plain": [
              "True"
            ]
          },
          "metadata": {
            "tags": []
          },
          "execution_count": 138
        }
      ]
    },
    {
      "cell_type": "code",
      "metadata": {
        "id": "z5nr5dQCdSEc",
        "colab_type": "code",
        "colab": {}
      },
      "source": [
        "from sklearn.feature_extraction.text import CountVectorizer\n",
        "from nltk.stem.porter import PorterStemmer"
      ],
      "execution_count": 0,
      "outputs": []
    },
    {
      "cell_type": "code",
      "metadata": {
        "id": "ZiiYe4PUogbH",
        "colab_type": "code",
        "colab": {}
      },
      "source": [
        "ps = PorterStemmer()"
      ],
      "execution_count": 0,
      "outputs": []
    },
    {
      "cell_type": "code",
      "metadata": {
        "id": "8YjmD16gdR8c",
        "colab_type": "code",
        "colab": {}
      },
      "source": [
        "# Processing text converting all text to lower case and removing stopwords\n",
        "processed_list = []\n",
        "for i in range(len(X)):\n",
        "  article = re.sub('[^a-zA-Z]', ' ', X[i])\n",
        "  article = article.lower()\n",
        "  article = article.split()\n",
        "  article = [ps.stem(token) for token in article if not token in stopwords.words('english')]\n",
        "  article = \" \".join(article)\n",
        "  processed_list.append(article)"
      ],
      "execution_count": 0,
      "outputs": []
    },
    {
      "cell_type": "code",
      "metadata": {
        "id": "xISNJK7BpGV7",
        "colab_type": "code",
        "colab": {
          "base_uri": "https://localhost:8080/",
          "height": 34
        },
        "outputId": "72efaebb-ffec-4c5b-e4c3-8238f7966d56"
      },
      "source": [
        "# Vectorising text for training of the neural network\n",
        "cv = CountVectorizer(max_features=3000)\n",
        "X = cv.fit_transform(processed_list).toarray()\n",
        "len(cv.get_feature_names())"
      ],
      "execution_count": 150,
      "outputs": [
        {
          "output_type": "execute_result",
          "data": {
            "text/plain": [
              "3000"
            ]
          },
          "metadata": {
            "tags": []
          },
          "execution_count": 150
        }
      ]
    },
    {
      "cell_type": "code",
      "metadata": {
        "id": "yg4dZHtecOZl",
        "colab_type": "code",
        "colab": {}
      },
      "source": [
        "# Splitting the data into training and test sets\n",
        "from sklearn.model_selection import train_test_split\n",
        "X_train, X_test, y_train, y_test = train_test_split(X, y, test_size=0.30)"
      ],
      "execution_count": 0,
      "outputs": []
    },
    {
      "cell_type": "code",
      "metadata": {
        "id": "Mctiw7qGqTCF",
        "colab_type": "code",
        "colab": {}
      },
      "source": [
        ""
      ],
      "execution_count": 0,
      "outputs": []
    },
    {
      "cell_type": "markdown",
      "metadata": {
        "id": "pifE27yYgwaH",
        "colab_type": "text"
      },
      "source": [
        "## Using Neural Network for developing model for the classification for the text"
      ]
    },
    {
      "cell_type": "code",
      "metadata": {
        "id": "XNgAcSS6GaHq",
        "colab_type": "code",
        "colab": {}
      },
      "source": [
        "# Sigmoid function to convert list's all values to its sigmoid \n",
        "def sigmoid(z):\n",
        "  x = []\n",
        "  for i in z:\n",
        "    try:\n",
        "      x.append(1/(1+np.exp(-i[0])))\n",
        "    except OverflowError:\n",
        "      print(i)\n",
        "      break\n",
        "      return\n",
        "  return np.asarray(x)\n",
        "\n",
        "# One Hot Encoder for encoding labels\n",
        "def oneHotEncoder(x):\n",
        "  return np.asarray([int(x == e) for e in range(5)])\n",
        "\n",
        "# Function for generating result after processsing the model\n",
        "def result_test(i):\n",
        "  return list(sigmoid(X_test[i]@w[:])).index(max(sigmoid(X_test[i]@w[:])))\n",
        "\n",
        "# Learning rate\n",
        "learning_rate = 0.005"
      ],
      "execution_count": 0,
      "outputs": []
    },
    {
      "cell_type": "code",
      "metadata": {
        "id": "vu2uxlqITMiF",
        "colab_type": "code",
        "colab": {}
      },
      "source": [
        "# Generating random weights for the training\n",
        "w = np.random.random((5, 3000, 1))"
      ],
      "execution_count": 0,
      "outputs": []
    },
    {
      "cell_type": "code",
      "metadata": {
        "id": "3E6qcl-FTgLd",
        "colab_type": "code",
        "colab": {}
      },
      "source": [
        "# w.shape"
      ],
      "execution_count": 0,
      "outputs": []
    },
    {
      "cell_type": "code",
      "metadata": {
        "id": "CnFNSCJCTiX0",
        "colab_type": "code",
        "colab": {
          "base_uri": "https://localhost:8080/",
          "height": 54
        },
        "outputId": "aa0d4a53-f32d-48d7-9f40-b56331b81de2"
      },
      "source": [
        "# Here we used single layer neural network in which we used Mean Squared Error as a loss function, in each iteration we trained our weights\n",
        "# for a single input\n",
        "progress = 0\n",
        "for i in range(len(X_train)):\n",
        "  for j in range(len(w)):\n",
        "    w[j]+=(learning_rate * X_train[i] * 2 * (oneHotEncoder(y_train[i]) - sigmoid(X_train[i]@w[:]))[j]).reshape((3000,1))\n",
        "  if progress < i/len(X_train)*100:\n",
        "    progress += 1\n",
        "    print(progress, end=\" \")"
      ],
      "execution_count": 161,
      "outputs": [
        {
          "output_type": "stream",
          "text": [
            "1 2 3 4 5 6 7 8 9 10 11 12 13 14 15 16 17 18 19 20 21 22 23 24 25 26 27 28 29 30 31 32 33 34 35 36 37 38 39 40 41 42 43 44 45 46 47 48 49 50 51 52 53 54 55 56 57 58 59 60 61 62 63 64 65 66 67 68 69 70 71 72 73 74 75 76 77 78 79 80 81 82 83 84 85 86 87 88 89 90 91 92 93 94 95 96 97 98 99 100 "
          ],
          "name": "stdout"
        }
      ]
    },
    {
      "cell_type": "code",
      "metadata": {
        "id": "qrQYD2gBTu6u",
        "colab_type": "code",
        "colab": {}
      },
      "source": [
        "# Testing for the accuracy on the test set\n",
        "acuracy = 0\n",
        "for i in range(len(X_test)):\n",
        "  if result_test(i) == y_test[i]:\n",
        "    acuracy += 1"
      ],
      "execution_count": 0,
      "outputs": []
    },
    {
      "cell_type": "code",
      "metadata": {
        "id": "TfLzNkc-UXY7",
        "colab_type": "code",
        "colab": {
          "base_uri": "https://localhost:8080/",
          "height": 34
        },
        "outputId": "96a5d5dc-09d0-4c4d-c096-1ec077d9c32b"
      },
      "source": [
        "print(acuracy/len(X_test))"
      ],
      "execution_count": 163,
      "outputs": [
        {
          "output_type": "stream",
          "text": [
            "0.9431137724550899\n"
          ],
          "name": "stdout"
        }
      ]
    },
    {
      "cell_type": "code",
      "metadata": {
        "id": "oUbtPHTjh_DT",
        "colab_type": "code",
        "colab": {}
      },
      "source": [
        ""
      ],
      "execution_count": 0,
      "outputs": []
    }
  ]
}